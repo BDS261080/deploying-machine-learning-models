{
  "nbformat": 4,
  "nbformat_minor": 0,
  "metadata": {
    "colab": {
      "private_outputs": true,
      "provenance": [],
      "toc_visible": true,
      "authorship_tag": "ABX9TyOLRk7xrNzUQc7AJeecpu5O",
      "include_colab_link": true
    },
    "kernelspec": {
      "name": "ir",
      "display_name": "R"
    },
    "language_info": {
      "name": "R"
    }
  },
  "cells": [
    {
      "cell_type": "markdown",
      "metadata": {
        "id": "view-in-github",
        "colab_type": "text"
      },
      "source": [
        "<a href=\"https://colab.research.google.com/github/BDS261080/deploying-machine-learning-models/blob/master/Configura_R.ipynb\" target=\"_parent\"><img src=\"https://colab.research.google.com/assets/colab-badge.svg\" alt=\"Open In Colab\"/></a>"
      ]
    },
    {
      "cell_type": "markdown",
      "source": [
        "**Usar Colab para R**\n",
        "\n",
        "\n"
      ],
      "metadata": {
        "id": "kuWqwMy_twib"
      }
    },
    {
      "cell_type": "markdown",
      "source": [
        "Definir lib path para instalações de R"
      ],
      "metadata": {
        "id": "xVVzfKs6v220"
      }
    },
    {
      "cell_type": "code",
      "source": [
        "# Create a folder called \"library\"\n",
        "system(\"mkdir library\")\n",
        "\n",
        "# set the R defaul library path to the library fold i´ve created\n",
        ".libPaths(\"library\")"
      ],
      "metadata": {
        "id": "V5VtP7RKv2Qr"
      },
      "execution_count": null,
      "outputs": []
    },
    {
      "cell_type": "code",
      "source": [
        "# Instalar as packages necessárias para executar R\n",
        "install.packages(\"fpp3\")\n",
        "install.packages(\"dplyr\")\n",
        "install.packages(\"caret\")\n",
        "install.packages(\"tidymodels\")\n",
        "\n",
        "library(fpp3)\n",
        "library(dplyr)\n",
        "library(caret)\n",
        "library(tidymodels)\n"
      ],
      "metadata": {
        "id": "ONCDb7rntwBC"
      },
      "execution_count": null,
      "outputs": []
    },
    {
      "cell_type": "markdown",
      "source": [
        "**Guardar packages para execução mais rápida num ficheiro tar.gz**"
      ],
      "metadata": {
        "id": "Sj7ndT8kvAfR"
      }
    },
    {
      "cell_type": "code",
      "source": [
        "# save \"lib\"\n",
        "tar('library.tar.gz', \"library\")"
      ],
      "metadata": {
        "id": "FaIyVnwnu_s2"
      },
      "execution_count": null,
      "outputs": []
    }
  ]
}